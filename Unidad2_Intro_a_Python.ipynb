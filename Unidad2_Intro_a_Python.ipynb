{
  "nbformat": 4,
  "nbformat_minor": 0,
  "metadata": {
    "colab": {
      "provenance": []
    },
    "kernelspec": {
      "name": "python3",
      "display_name": "Python 3"
    },
    "language_info": {
      "name": "python"
    }
  },
  "cells": [
    {
      "cell_type": "markdown",
      "source": [
        "# **Introducción a Python**\n",
        "\n",
        "<font size=4 color='blue'> Python</font> es un lenguaje de programación *orientado a objetos*, actualmente es uno de los leguajes más utilizados debido a su flexibilidad y sintaxis sencilla que facilita su aprendizaje.\n",
        "<br><br>\n",
        "Cuando se busca aprender un nuevo lenguaje de programación, uno de los primeros ejemplos con los que se busca obtener cierta familiaridad es a través de un programa muy sencillo que suele denominarse **\"hola-mundo\"**.\n",
        "\n",
        "Este programa tiene una única función: desplegar en pantalla las palabras **Hello World!** \n",
        "\n",
        "Veamos este programa en Python:"
      ],
      "metadata": {
        "id": "VyfMbDwqdSZd"
      }
    },
    {
      "cell_type": "code",
      "execution_count": null,
      "metadata": {
        "id": "EKKzMhz8csqS"
      },
      "outputs": [],
      "source": [
        "print(\"Hello World!\")"
      ]
    },
    {
      "cell_type": "markdown",
      "source": [
        "Python es un lenguaje que no requiere compilación, es decir, podemos ejecutar las instrucciones directamente en un intérprete (por ejemplo, las celdas de código en Colab).\n",
        "\n",
        "En el ejemplo anterior _\"hello world\"_, simplemente estamos pidiendo a Python que nos muestre en pantalla el texto que le introdujimos como _Input_.\n",
        "\n",
        "Antes de continuar veamos cómo escribir operaciones aritméticas básicas:\n",
        "\n",
        "<center>\n",
        "\n",
        "| Operación Matemática      |  | Python     |\n",
        "| :---                      |  |  ---:      |\n",
        "| Suma: 1 + 2               |  | 1 + 2      |\n",
        "| Resta: 6 - 4              |  | 6 - 4      |\n",
        "| División: 5$\\div$2        |  | 5/2        |\n",
        "| Potencia: 3$^2$           |  | 3**2       |\n",
        "\n",
        "</center>"
      ],
      "metadata": {
        "id": "sw8bGw85q13U"
      }
    },
    {
      "cell_type": "code",
      "source": [],
      "metadata": {
        "id": "N8SI2hvvvFRt"
      },
      "execution_count": null,
      "outputs": []
    },
    {
      "cell_type": "markdown",
      "source": [
        "### Tipos de Variable en Python\n",
        "\n",
        "Podemos pensar que las _variables_ son una especie de contenedores que nos permiten almacenar información.\n",
        "\n",
        "Veamos un ejemplo:"
      ],
      "metadata": {
        "id": "Xb_ckA_Lqd63"
      }
    },
    {
      "cell_type": "code",
      "source": [
        "x=\"Hello world!\"\n",
        "print(x)"
      ],
      "metadata": {
        "id": "F2iyGl88e9Dx"
      },
      "execution_count": null,
      "outputs": []
    },
    {
      "cell_type": "markdown",
      "source": [
        "El código anterior hace exactamente lo mismo que el ejemplo de _\"hello world\"_, sin embargo aquí hemos utilizado una variable llamada **x** en la que hemos guardado el texto `Hello world!`.\n",
        "\n",
        " A diferencia de otros lenguajes, en Python siempre podemos reemplazar el contenido de una variable y no requieren una declaración previa, es decir, basta con asignar un valor a una variable utilizando el signo de \"igual\" (<font color='red'>$=$</font>) para que ésta quede guardada en la memoria.\n",
        "\n",
        " Podemos distinguir variables de diferentes tipos, dependiendo el tipode dato que almacenen. Veamos algunos ejemplos:"
      ],
      "metadata": {
        "id": "ol-o_15AxSCX"
      }
    },
    {
      "cell_type": "code",
      "source": [
        "# Variables de tipo entero\n",
        "a=1\n",
        "b=2\n",
        "print(a+b)"
      ],
      "metadata": {
        "colab": {
          "base_uri": "https://localhost:8080/"
        },
        "id": "CauJQHqsyD_8",
        "outputId": "d9bc00d0-e77e-496d-ea92-bd0a1175f0e1"
      },
      "execution_count": 3,
      "outputs": [
        {
          "output_type": "stream",
          "name": "stdout",
          "text": [
            "3\n"
          ]
        }
      ]
    },
    {
      "cell_type": "code",
      "source": [
        "type(a)"
      ],
      "metadata": {
        "colab": {
          "base_uri": "https://localhost:8080/"
        },
        "id": "GdhikQfAzs3q",
        "outputId": "5c9bbbc1-3878-429b-cbc5-dd43fb011e89"
      },
      "execution_count": 4,
      "outputs": [
        {
          "output_type": "execute_result",
          "data": {
            "text/plain": [
              "int"
            ]
          },
          "metadata": {},
          "execution_count": 4
        }
      ]
    },
    {
      "cell_type": "code",
      "source": [
        "# Variables de tipo flotante\n",
        "x=1.2345\n",
        "y=0.0531\n",
        "print(x-y)"
      ],
      "metadata": {
        "colab": {
          "base_uri": "https://localhost:8080/"
        },
        "id": "cWtFCoddzgXo",
        "outputId": "66bef860-d1e5-452a-aebd-535eed1c73ec"
      },
      "execution_count": 5,
      "outputs": [
        {
          "output_type": "stream",
          "name": "stdout",
          "text": [
            "1.1814\n"
          ]
        }
      ]
    },
    {
      "cell_type": "code",
      "source": [
        "type(x)"
      ],
      "metadata": {
        "colab": {
          "base_uri": "https://localhost:8080/"
        },
        "id": "zzrrkpqgzgUA",
        "outputId": "f8ff7fee-e377-4e7b-bab5-74cb3e47373e"
      },
      "execution_count": 6,
      "outputs": [
        {
          "output_type": "execute_result",
          "data": {
            "text/plain": [
              "float"
            ]
          },
          "metadata": {},
          "execution_count": 6
        }
      ]
    },
    {
      "cell_type": "code",
      "source": [
        "# Variables de tipo string\n",
        "z=\"hola! ABC\"\n",
        "print(z)"
      ],
      "metadata": {
        "colab": {
          "base_uri": "https://localhost:8080/"
        },
        "id": "O6ll1qsc0CgS",
        "outputId": "fc764c8c-4282-4f86-ba1e-fe46782393fb"
      },
      "execution_count": 7,
      "outputs": [
        {
          "output_type": "stream",
          "name": "stdout",
          "text": [
            "hola! ABC\n"
          ]
        }
      ]
    },
    {
      "cell_type": "code",
      "source": [
        "type(z)"
      ],
      "metadata": {
        "colab": {
          "base_uri": "https://localhost:8080/"
        },
        "id": "HXAkQSuu0OHe",
        "outputId": "70169eb7-5ebb-4343-9292-5984af60f125"
      },
      "execution_count": 8,
      "outputs": [
        {
          "output_type": "execute_result",
          "data": {
            "text/plain": [
              "str"
            ]
          },
          "metadata": {},
          "execution_count": 8
        }
      ]
    },
    {
      "cell_type": "code",
      "source": [
        "# Variables de tipo complejo\n",
        "m=1+3j\n",
        "print(4*m)"
      ],
      "metadata": {
        "colab": {
          "base_uri": "https://localhost:8080/"
        },
        "id": "F_kXPYIw0SFW",
        "outputId": "0aa65d5f-2b12-43e4-8965-a8f2d1d47c46"
      },
      "execution_count": 9,
      "outputs": [
        {
          "output_type": "stream",
          "name": "stdout",
          "text": [
            "(4+12j)\n"
          ]
        }
      ]
    },
    {
      "cell_type": "code",
      "source": [
        "type(m)"
      ],
      "metadata": {
        "colab": {
          "base_uri": "https://localhost:8080/"
        },
        "id": "G53WHbiW0bFS",
        "outputId": "6271afe8-a152-4bc0-d398-69bb6a8b7339"
      },
      "execution_count": 10,
      "outputs": [
        {
          "output_type": "execute_result",
          "data": {
            "text/plain": [
              "complex"
            ]
          },
          "metadata": {},
          "execution_count": 10
        }
      ]
    },
    {
      "cell_type": "markdown",
      "source": [
        "En los ejemplos anteriores hemos utilizado la instrucción `type( )` para obtener el tipo de variable que ingresamos como _Input_."
      ],
      "metadata": {
        "id": "z2YY0e7s0jYg"
      }
    },
    {
      "cell_type": "markdown",
      "source": [
        "### Estructuras de Control\n",
        "\n",
        "Se conocen como estructuras de control a las instrucciones que nos permiten administrar la manera en que son ejecutados bloques de instrucciones. En Python tenemos condicionales y ciclos, principalmente.\n",
        "\n",
        "Veamos como funcionan:\n",
        "\n",
        "#### **Condicional: _if_ / _else_ / _elif_**\n",
        "El condicional `if` consiste en un enunciado lógico al que se subordina la ejecución de un conjunto de instrucciones, por ejemplo:"
      ],
      "metadata": {
        "id": "JGfsmylF1SSr"
      }
    },
    {
      "cell_type": "code",
      "source": [
        "a=10\n",
        "\n",
        "if a>20:\n",
        "  print(\"Hello world!\")"
      ],
      "metadata": {
        "id": "IU1dW7vv0zfk"
      },
      "execution_count": null,
      "outputs": []
    },
    {
      "cell_type": "markdown",
      "source": [
        "El código del ejemplo anterior incluye la línea `print(\"Hello world!\")`, la cual debería mostrarnos un mensaje como resultado. Sin embargo, hemos condicionado la ejecución de este `print` sólo si el valor de la variable `a` es mayor a 20; y como inicialmente asignamos a la variable `a` el valor de 10, la instrucción `print` no se ejecuta.\n",
        "\n",
        "Cabe señalar que la instrucción `if` siempre va acompañada del enunciado lógico, y éste va seguido de dos puntos; además, las instrucciones cuya ejecución queremos condicionar siempre se escriben después del `if` y acompañadas de una identación o sangría.\n",
        "\n",
        "Para algunas aplicaciones puede ser necesario ejecutar diferentes instrucciones según ocurran diferentes casos, es entonces que podemos utilizar **_else_** y/o **_elif_** (abreviación de _else if_)."
      ],
      "metadata": {
        "id": "wUWCxUmP4TaX"
      }
    },
    {
      "cell_type": "code",
      "source": [
        "a=1\n",
        "b=2\n",
        "c=-3\n",
        "\n",
        "if b**2-4*a*c>=0:\n",
        "  print(\"hay solucion(es)\")\n",
        "else:\n",
        "  print(\"no hay raices reales\")"
      ],
      "metadata": {
        "colab": {
          "base_uri": "https://localhost:8080/"
        },
        "id": "A2OZSIkQ7YdC",
        "outputId": "10445982-3c90-48dd-ecef-f2b7a3d77e97"
      },
      "execution_count": 13,
      "outputs": [
        {
          "output_type": "stream",
          "name": "stdout",
          "text": [
            "hay solucion(es)\n"
          ]
        }
      ]
    },
    {
      "cell_type": "code",
      "source": [
        "x=-40\n",
        "\n",
        "if x<0:\n",
        "  print(\"x es negativo\")\n",
        "elif x==0:\n",
        "  print(\"x es cero\")\n",
        "else:\n",
        "  print(\"x es positivo\")"
      ],
      "metadata": {
        "colab": {
          "base_uri": "https://localhost:8080/"
        },
        "id": "vf7Pwzjs7ENY",
        "outputId": "83c15e1f-ec07-46da-b244-4320f20cbeaf"
      },
      "execution_count": 11,
      "outputs": [
        {
          "output_type": "stream",
          "name": "stdout",
          "text": [
            "x es negativo\n"
          ]
        }
      ]
    },
    {
      "cell_type": "markdown",
      "source": [
        "\n",
        "\n",
        "#### **Ciclos: _while_**\n",
        "Con esta instrucciones podemos repetir un bloque de instrucciones _mientras_ una condición lógica sea verdadera.\n",
        "\n",
        "Análogamente al `if`, la condición lógica en esta instrucción se acompaña de dos puntos, y mediante una sangría o identación distinguimos cuál es el conjunto de instrucciones que van a repetirse.\n",
        "\n"
      ],
      "metadata": {
        "id": "dWnWC6JB38ZZ"
      }
    },
    {
      "cell_type": "code",
      "source": [
        "i=0\n",
        "\n",
        "while i<10:\n",
        "  print(i)\n",
        "  i=i+1"
      ],
      "metadata": {
        "id": "xBsJisDk39F-"
      },
      "execution_count": null,
      "outputs": []
    },
    {
      "cell_type": "markdown",
      "source": [
        "**Nota:** Al igual que en otros lenguajes podemos utilizar una variante para incrementar el valor del contador `i`, a saber, `i+=1`."
      ],
      "metadata": {
        "id": "4pEcW7ib9w5s"
      }
    },
    {
      "cell_type": "code",
      "source": [
        "i=0\n",
        "\n",
        "while i<10:\n",
        "  print(i)\n",
        "  i+=1"
      ],
      "metadata": {
        "id": "3VeCZg2C-Jl3"
      },
      "execution_count": null,
      "outputs": []
    },
    {
      "cell_type": "markdown",
      "source": [
        "### Listas\n",
        "\n",
        "Antes de continuar con otras estructuras de control, vamos a introducir las **listas**. Éstas nos permiten almacenar ordenadamente un conjunto de objetos, estos objetos pueden ser variables de diferente tipo e incluso otras listas.\n",
        "\n",
        "Las listas son objetos dinámicos, es decir, siempre podemos agregar, remover o reemplazar objetos en ellas.\n",
        "\n",
        "Para definirlas, necesitamos escribir un par de corchetes **[** **]**, y entre ellos los elementos que conformen la lista separados por comas."
      ],
      "metadata": {
        "id": "SmmQWKK6BoBj"
      }
    },
    {
      "cell_type": "code",
      "source": [
        "L=[] # lista vacia"
      ],
      "metadata": {
        "id": "Pdg2GkZ_Db70"
      },
      "execution_count": 17,
      "outputs": []
    },
    {
      "cell_type": "code",
      "source": [
        "print(L)"
      ],
      "metadata": {
        "colab": {
          "base_uri": "https://localhost:8080/"
        },
        "id": "3VCWkrZhDokc",
        "outputId": "cad34b39-dd21-41a4-a573-63ecf55a9ec7"
      },
      "execution_count": 18,
      "outputs": [
        {
          "output_type": "stream",
          "name": "stdout",
          "text": [
            "[]\n"
          ]
        }
      ]
    },
    {
      "cell_type": "code",
      "source": [
        "type(L)"
      ],
      "metadata": {
        "colab": {
          "base_uri": "https://localhost:8080/"
        },
        "id": "_c2kd3tRHVYD",
        "outputId": "2349ca42-c61f-4197-f82f-a8bb7b5d2f90"
      },
      "execution_count": 31,
      "outputs": [
        {
          "output_type": "execute_result",
          "data": {
            "text/plain": [
              "list"
            ]
          },
          "metadata": {},
          "execution_count": 31
        }
      ]
    },
    {
      "cell_type": "code",
      "source": [
        "Lista=[1,2,3,'a','b','c',L]\n",
        "\n",
        "print(Lista)"
      ],
      "metadata": {
        "colab": {
          "base_uri": "https://localhost:8080/"
        },
        "id": "t9ynv4XXDfI7",
        "outputId": "7d168cc6-4da7-48a9-87b9-3499d7792981"
      },
      "execution_count": 21,
      "outputs": [
        {
          "output_type": "stream",
          "name": "stdout",
          "text": [
            "[1, 2, 3, 'a', 'b', 'c', []]\n"
          ]
        }
      ]
    },
    {
      "cell_type": "markdown",
      "source": [
        "Una gran ventaja de trabajar con listas es que podemos acceder a sus elementos mediante el índice que representa la posición que ocupa el elemento en la lista, numerado a partir del 0, es decir,"
      ],
      "metadata": {
        "id": "Z8kA8mwtDvK1"
      }
    },
    {
      "cell_type": "code",
      "source": [
        "Lista[0]"
      ],
      "metadata": {
        "id": "t2bFjDY6EJSu"
      },
      "execution_count": null,
      "outputs": []
    },
    {
      "cell_type": "code",
      "source": [
        "Lista[4]"
      ],
      "metadata": {
        "id": "mLeyh6vZEPEk"
      },
      "execution_count": null,
      "outputs": []
    },
    {
      "cell_type": "markdown",
      "source": [
        "También podemos usar indices negativos para referirnos a elementos contados de derecha a izquierda"
      ],
      "metadata": {
        "id": "tRxmsGpaEWjG"
      }
    },
    {
      "cell_type": "code",
      "source": [
        "Lista[-1]"
      ],
      "metadata": {
        "colab": {
          "base_uri": "https://localhost:8080/"
        },
        "id": "d0T7FuhuEOxP",
        "outputId": "4e0efc7b-b5d1-4a7f-97fa-705612ee6b89"
      },
      "execution_count": 22,
      "outputs": [
        {
          "output_type": "execute_result",
          "data": {
            "text/plain": [
              "[]"
            ]
          },
          "metadata": {},
          "execution_count": 22
        }
      ]
    },
    {
      "cell_type": "markdown",
      "source": [
        "En una lista podemos agregar elementos utilizando la instrucción _append_"
      ],
      "metadata": {
        "id": "Nrqc4RDzEkWq"
      }
    },
    {
      "cell_type": "code",
      "source": [
        "Z=[]\n",
        "print(Z)\n",
        "Z.append('a')\n",
        "Z.append(0)\n",
        "print(Z)"
      ],
      "metadata": {
        "colab": {
          "base_uri": "https://localhost:8080/"
        },
        "id": "khi6FufeEwzP",
        "outputId": "99a680a1-48bf-4d5c-d2d1-45b2789cafd4"
      },
      "execution_count": 23,
      "outputs": [
        {
          "output_type": "stream",
          "name": "stdout",
          "text": [
            "[]\n",
            "['a', 0]\n"
          ]
        }
      ]
    },
    {
      "cell_type": "markdown",
      "source": [
        "Otra manera de agregar elementos es especificando la posición que ocupará dentro de la lista contando a partir del 0, esto lo hacemos con la instrucción _insert_"
      ],
      "metadata": {
        "id": "pyIeDVutFIBM"
      }
    },
    {
      "cell_type": "code",
      "source": [
        "Y=['a','b','c','e','f','g']\n",
        "\n",
        "Y.insert(3,'d')\n",
        "print(Y)"
      ],
      "metadata": {
        "colab": {
          "base_uri": "https://localhost:8080/"
        },
        "id": "NTnioo0dFfVH",
        "outputId": "b2deacb0-b7f0-4f93-b2a5-2578f45b3a00"
      },
      "execution_count": 25,
      "outputs": [
        {
          "output_type": "stream",
          "name": "stdout",
          "text": [
            "['a', 'b', 'c', 'd', 'e', 'f', 'g']\n"
          ]
        }
      ]
    },
    {
      "cell_type": "markdown",
      "source": [
        "También podemos remover un elemento en la lista:"
      ],
      "metadata": {
        "id": "DsivI609F5me"
      }
    },
    {
      "cell_type": "code",
      "source": [
        "Y=['a', 'b', 'c', 'd', 'e', 'f', 'g']\n",
        "\n",
        "Y.remove('a')\n",
        "\n",
        "print(Y)"
      ],
      "metadata": {
        "colab": {
          "base_uri": "https://localhost:8080/"
        },
        "id": "ozEBMc5ZF_DB",
        "outputId": "907a0060-9ab4-4498-d928-e9738da9326b"
      },
      "execution_count": 26,
      "outputs": [
        {
          "output_type": "stream",
          "name": "stdout",
          "text": [
            "['b', 'c', 'd', 'e', 'f', 'g']\n"
          ]
        }
      ]
    },
    {
      "cell_type": "markdown",
      "source": [
        "Podemos contar cuántos elementos tiene una lista con la instrucción _len( )_"
      ],
      "metadata": {
        "id": "cS2RVQYXGK-r"
      }
    },
    {
      "cell_type": "code",
      "source": [
        "len(Y)"
      ],
      "metadata": {
        "colab": {
          "base_uri": "https://localhost:8080/"
        },
        "id": "DwnHqBw7GR2o",
        "outputId": "7d9a0aad-6235-49fa-8597-5e1e12a9f29d"
      },
      "execution_count": 27,
      "outputs": [
        {
          "output_type": "execute_result",
          "data": {
            "text/plain": [
              "6"
            ]
          },
          "metadata": {},
          "execution_count": 27
        }
      ]
    },
    {
      "cell_type": "markdown",
      "source": [
        "También podemos encontrar cuál es la posición en la que se encuentra un elemento en una lista."
      ],
      "metadata": {
        "id": "LLtoIkAkGYP-"
      }
    },
    {
      "cell_type": "code",
      "source": [
        "Y.index('d')"
      ],
      "metadata": {
        "colab": {
          "base_uri": "https://localhost:8080/"
        },
        "id": "SSq0mr0MGYza",
        "outputId": "be635126-8c16-420f-ad41-c2b826474c67"
      },
      "execution_count": 30,
      "outputs": [
        {
          "output_type": "execute_result",
          "data": {
            "text/plain": [
              "2"
            ]
          },
          "metadata": {},
          "execution_count": 30
        }
      ]
    },
    {
      "cell_type": "markdown",
      "source": [
        "Existen otras funciones asociadas a listas, por ejemplo: **sort**, **count**, **reverse**, **pop**.\n",
        "\n",
        "#### Rangos **range**\n",
        "\n",
        "La instrucción `range` nos permite crear todo un rango de valores enteros y será de utilidad para la siguiente estructura de control.\n",
        "\n",
        "Veamos ejemplos:"
      ],
      "metadata": {
        "id": "PngGYmnCG20g"
      }
    },
    {
      "cell_type": "code",
      "source": [
        "range(5)"
      ],
      "metadata": {
        "colab": {
          "base_uri": "https://localhost:8080/"
        },
        "id": "wW8J1_tjH1Yr",
        "outputId": "291cd7fa-7cd5-4287-e0d6-b38c97264adc"
      },
      "execution_count": 32,
      "outputs": [
        {
          "output_type": "execute_result",
          "data": {
            "text/plain": [
              "range(0, 5)"
            ]
          },
          "metadata": {},
          "execution_count": 32
        }
      ]
    },
    {
      "cell_type": "code",
      "source": [
        "range(3,17,2) # inicio, fin, paso"
      ],
      "metadata": {
        "colab": {
          "base_uri": "https://localhost:8080/"
        },
        "id": "UjJHJKIVH3j5",
        "outputId": "d52d9cf2-b2a0-48fd-d211-93a1ef1ce1ba"
      },
      "execution_count": 34,
      "outputs": [
        {
          "output_type": "execute_result",
          "data": {
            "text/plain": [
              "range(3, 17, 2)"
            ]
          },
          "metadata": {},
          "execution_count": 34
        }
      ]
    },
    {
      "cell_type": "markdown",
      "source": [
        "#### **Ciclos: _for_**\n",
        "\n",
        "Estos ciclos recorren los elementos en una lista o un rango, y por cada elemento repiten todo un bloque de instrucciones."
      ],
      "metadata": {
        "id": "KtFtsDOo8uUd"
      }
    },
    {
      "cell_type": "code",
      "source": [
        "for i in range(5):\n",
        "  print(i)"
      ],
      "metadata": {
        "colab": {
          "base_uri": "https://localhost:8080/"
        },
        "id": "1luI89wL8xRi",
        "outputId": "efe4f854-1efb-4231-d2bb-4569e89c7f35"
      },
      "execution_count": 35,
      "outputs": [
        {
          "output_type": "stream",
          "name": "stdout",
          "text": [
            "0\n",
            "1\n",
            "2\n",
            "3\n",
            "4\n"
          ]
        }
      ]
    },
    {
      "cell_type": "code",
      "source": [
        "for i in range(3,10,2):\n",
        "  print(i)"
      ],
      "metadata": {
        "colab": {
          "base_uri": "https://localhost:8080/"
        },
        "id": "XEOByjsiKgpY",
        "outputId": "1435b671-0cc6-4b7e-ae51-970c461340e5"
      },
      "execution_count": 37,
      "outputs": [
        {
          "output_type": "stream",
          "name": "stdout",
          "text": [
            "3\n",
            "5\n",
            "7\n",
            "9\n"
          ]
        }
      ]
    },
    {
      "cell_type": "code",
      "source": [
        "for i in ['a','b','c','d','e','f','g']:\n",
        "  print(i)"
      ],
      "metadata": {
        "colab": {
          "base_uri": "https://localhost:8080/"
        },
        "id": "vB9dekV3Kjh9",
        "outputId": "ed927aa8-86da-4731-dd69-18e4b30c0da4"
      },
      "execution_count": 38,
      "outputs": [
        {
          "output_type": "stream",
          "name": "stdout",
          "text": [
            "a\n",
            "b\n",
            "c\n",
            "d\n",
            "e\n",
            "f\n",
            "g\n"
          ]
        }
      ]
    },
    {
      "cell_type": "markdown",
      "source": [
        "### Escritura y Lectura de archivos de texto\n",
        "\n",
        "Cuando iniciamos una sesión de Colab tenemos acceso a una computadora (virtual) con linux, esto significa que el sistema de archivos también se hereda de este sistema.\n",
        "\n",
        "Aunque no cubriremos con profundidad temas relacionados con linux, es un buen momento para introducir dos comandos propios de linux que nos ayudan a revisar el contenido de directorios y de archivos. Estos comandos, al no ser parte de Python, requieren que especifiquemos en la celda de código que las instrucciones corresponden a comandos del sistema linux y no intente interpretarlas con Python. Esto lo podemos hacer colocando un signo de admiración **!** al comienzo de cada comando de linux.\n",
        "\n",
        "El primer comando que veremos es el comando **ls** que sirve para _listar_ los archivos de un directorio. Veamos su uso:"
      ],
      "metadata": {
        "id": "8_qYog5ULugc"
      }
    },
    {
      "cell_type": "code",
      "source": [
        "!ls"
      ],
      "metadata": {
        "colab": {
          "base_uri": "https://localhost:8080/"
        },
        "id": "X2uCUc6_L4XJ",
        "outputId": "9eab570c-93ef-483d-867a-40fd1e10073d"
      },
      "execution_count": 39,
      "outputs": [
        {
          "output_type": "stream",
          "name": "stdout",
          "text": [
            "sample_data\n"
          ]
        }
      ]
    },
    {
      "cell_type": "markdown",
      "source": [
        "La salida del comando anterior nos indica que tenemos un directorio llamado **sample_data**, e incluso podemos listar el contenido de este directorio default"
      ],
      "metadata": {
        "id": "gEBNgsAwPj7M"
      }
    },
    {
      "cell_type": "code",
      "source": [
        "!ls sample_data"
      ],
      "metadata": {
        "colab": {
          "base_uri": "https://localhost:8080/"
        },
        "id": "jdbbPOVUPhYw",
        "outputId": "dcb8535f-eb1a-4766-ce30-c623cdba1bad"
      },
      "execution_count": 40,
      "outputs": [
        {
          "output_type": "stream",
          "name": "stdout",
          "text": [
            "anscombe.json\t\t      mnist_test.csv\n",
            "california_housing_test.csv   mnist_train_small.csv\n",
            "california_housing_train.csv  README.md\n"
          ]
        }
      ]
    },
    {
      "cell_type": "markdown",
      "source": [
        "Escribiremos un archivo de texto desde Python y utilizaremos este comando **ls** para corroborar que se ha creado dicho archivo.\n",
        "\n",
        "\n",
        "Existen varias maneras de escribir archivos de texto en Python, sin embargo aquí abordaremos la manera más elemental sin recurrir a modulos adicionales.\n",
        "\n",
        "Comenzaremos por abrir un archivo y asignarle un nombre:"
      ],
      "metadata": {
        "id": "Uf6-d_zPP4Ue"
      }
    },
    {
      "cell_type": "code",
      "source": [
        "archivo=open(\"mi_archivo.txt\",'w')\n",
        "\n",
        "# La 'w' significa 'write', es decir, que vamos a escribir en un archivo, el cual puede o no ser nuevo\n",
        "# En caso de que el archivo ya exista, se sobrescribe."
      ],
      "metadata": {
        "id": "w9S7uL9rP0Vj"
      },
      "execution_count": 58,
      "outputs": []
    },
    {
      "cell_type": "markdown",
      "source": [
        "Ahora usamos la instrucción **write** para escribir contenido en el archivo"
      ],
      "metadata": {
        "id": "ghsnGZsiRSoG"
      }
    },
    {
      "cell_type": "code",
      "source": [
        "archivo.write(\"Hola mundo!!\")\n",
        "archivo.close()"
      ],
      "metadata": {
        "id": "alVaCKG5RRL9"
      },
      "execution_count": 59,
      "outputs": []
    },
    {
      "cell_type": "markdown",
      "source": [
        "Verificamos que se ha creado el archivo usando el comando de linux **ls**"
      ],
      "metadata": {
        "id": "NIXapCe2RkLd"
      }
    },
    {
      "cell_type": "code",
      "source": [
        "!ls"
      ],
      "metadata": {
        "colab": {
          "base_uri": "https://localhost:8080/"
        },
        "id": "lo9rnYFyRgRF",
        "outputId": "e853ba1c-6f9b-464d-d4ae-1fe695e81752"
      },
      "execution_count": 44,
      "outputs": [
        {
          "output_type": "stream",
          "name": "stdout",
          "text": [
            "mi_archivo.txt\tsample_data\n"
          ]
        }
      ]
    },
    {
      "cell_type": "markdown",
      "source": [
        "Podemos adicionalmente usar el comando de linux **cat** para desplegar (desde linux) el contenido de este archivo"
      ],
      "metadata": {
        "id": "N7d3n4gjRruZ"
      }
    },
    {
      "cell_type": "code",
      "source": [
        "!cat mi_archivo.txt"
      ],
      "metadata": {
        "colab": {
          "base_uri": "https://localhost:8080/"
        },
        "id": "x-Zk_P8oRqCZ",
        "outputId": "ffa4ceab-8a36-4478-efbe-904330ccaa9a"
      },
      "execution_count": 46,
      "outputs": [
        {
          "output_type": "stream",
          "name": "stdout",
          "text": [
            "Hola mundo!!"
          ]
        }
      ]
    },
    {
      "cell_type": "markdown",
      "source": [
        "Ahora crearemos un nuevo archivo con varias líneas de contenido utilizando las estructuras de control que hemos aprendido:"
      ],
      "metadata": {
        "id": "7Cdx2SbSR6S6"
      }
    },
    {
      "cell_type": "code",
      "source": [
        "f=open('archivo_lista.txt','w')\n",
        "\n",
        "for i in range(10):\n",
        "  f.write(\"Hola! \"+str(i)+\"\\n\")\n",
        "\n",
        "f.close()"
      ],
      "metadata": {
        "id": "TaCAcHc6R1yj"
      },
      "execution_count": 51,
      "outputs": []
    },
    {
      "cell_type": "markdown",
      "source": [
        "**Nota:** En el código anterior hemos utilizado el signo **+** para algo diferente a sumar números, a saber, en Python el signo de más puede utilizarse también para concatenar variables de tipo *string*.\n",
        "\n",
        "Por otra parte, el `for` recorre los elementos en el rango de 0 a 10, estos elementos los identifica con la variable `i`; sin embargo, estos son números enteros. Auí también hemos utilizado la instrucción `str( )` para convertir una variable de tipo entero a su equivalente de tipo texto. Vemos cómo opera esta función"
      ],
      "metadata": {
        "id": "Nrvo_xGPSyBy"
      }
    },
    {
      "cell_type": "code",
      "source": [
        "\n",
        "print(1+1)\n",
        "print(str(1)+str(1))"
      ],
      "metadata": {
        "colab": {
          "base_uri": "https://localhost:8080/"
        },
        "id": "00EExzXkUA95",
        "outputId": "f6fc538b-f563-4e34-fe67-3dfbfadf1cd0"
      },
      "execution_count": 55,
      "outputs": [
        {
          "output_type": "stream",
          "name": "stdout",
          "text": [
            "2\n",
            "11\n"
          ]
        }
      ]
    },
    {
      "cell_type": "markdown",
      "source": [
        "Finalmente, también hemos concatenado **\"\\n\"** al final del texto. Al igual que en otros lenguajes, esta diagonal invertida seguida de una n es la manera de representar un salto de línea en texto simple.\n",
        "\n",
        "Veamos el contenido del archivo:"
      ],
      "metadata": {
        "id": "KzU7fbtHUSPA"
      }
    },
    {
      "cell_type": "code",
      "source": [
        "!ls"
      ],
      "metadata": {
        "colab": {
          "base_uri": "https://localhost:8080/"
        },
        "id": "C28oB3dUSn2A",
        "outputId": "16f7d474-a0f4-46d3-bbc8-41eaa8a13d6d"
      },
      "execution_count": 52,
      "outputs": [
        {
          "output_type": "stream",
          "name": "stdout",
          "text": [
            "archivo_lista.txt  mi_archivo.txt  sample_data\n"
          ]
        }
      ]
    },
    {
      "cell_type": "code",
      "source": [
        "!cat archivo_lista.txt"
      ],
      "metadata": {
        "colab": {
          "base_uri": "https://localhost:8080/"
        },
        "id": "K4zYppGmSokl",
        "outputId": "0e32b406-a346-44e5-f7f7-ca17aa554104"
      },
      "execution_count": 53,
      "outputs": [
        {
          "output_type": "stream",
          "name": "stdout",
          "text": [
            "Hola! 0\n",
            "Hola! 1\n",
            "Hola! 2\n",
            "Hola! 3\n",
            "Hola! 4\n",
            "Hola! 5\n",
            "Hola! 6\n",
            "Hola! 7\n",
            "Hola! 8\n",
            "Hola! 9\n"
          ]
        }
      ]
    },
    {
      "cell_type": "markdown",
      "source": [
        "Ahora desde Python leeremos este archivo:"
      ],
      "metadata": {
        "id": "qXNUzTANUwki"
      }
    },
    {
      "cell_type": "code",
      "source": [
        "archivo=open(\"archivo_lista.txt\",'r')\n",
        "\n",
        "# Ahora hemos utilizado una 'r' para leer (read) en lugar de una 'w'\n",
        " "
      ],
      "metadata": {
        "id": "dqZomczFSqk2"
      },
      "execution_count": 56,
      "outputs": []
    },
    {
      "cell_type": "code",
      "source": [
        "texto=archivo.read()\n",
        "archivo.close()\n",
        "\n",
        "print(texto)"
      ],
      "metadata": {
        "colab": {
          "base_uri": "https://localhost:8080/"
        },
        "id": "K1lh4hVfVDh7",
        "outputId": "9913a5ed-d4b6-4adc-e5a7-6196e7772768"
      },
      "execution_count": 57,
      "outputs": [
        {
          "output_type": "stream",
          "name": "stdout",
          "text": [
            "Hola! 0\n",
            "Hola! 1\n",
            "Hola! 2\n",
            "Hola! 3\n",
            "Hola! 4\n",
            "Hola! 5\n",
            "Hola! 6\n",
            "Hola! 7\n",
            "Hola! 8\n",
            "Hola! 9\n",
            "\n"
          ]
        }
      ]
    },
    {
      "cell_type": "code",
      "source": [],
      "metadata": {
        "id": "XhLfd9xFVMS9"
      },
      "execution_count": null,
      "outputs": []
    }
  ]
}