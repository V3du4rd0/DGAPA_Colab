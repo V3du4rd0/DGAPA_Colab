{
  "nbformat": 4,
  "nbformat_minor": 0,
  "metadata": {
    "colab": {
      "provenance": []
    },
    "kernelspec": {
      "name": "python3",
      "display_name": "Python 3"
    },
    "language_info": {
      "name": "python"
    }
  },
  "cells": [
    {
      "cell_type": "markdown",
      "source": [
        "# Módulos en Python\n",
        "\n",
        "Muchas de las funcionalidades de Python están disponibles únicamente a partir de módulos, es decir, de paquetes adicionales de funciones. En esta unidad veremos varios de estos módulos que pueden utilizarse en diferentes circunstancias.\n",
        "\n",
        "### Módulo **math**\n",
        "Este es un módulo básico que incluye muchas funciones matemáticas. \n",
        "\n",
        "Para poder utilizar un móulo de Python debemos importarlo con la instrucción `import`\n"
      ],
      "metadata": {
        "id": "Sx69oPG8kok8"
      }
    },
    {
      "cell_type": "code",
      "execution_count": 2,
      "metadata": {
        "id": "_CER7RYuipE2"
      },
      "outputs": [],
      "source": [
        "import math"
      ]
    },
    {
      "cell_type": "markdown",
      "source": [
        "Una vez importado el módulo podemos hacer uso de las funciones que incluye escribiendo el nombre del módulo, seguido de un punto y el nombre de la función que queremos utilizar. Por ejemplo:"
      ],
      "metadata": {
        "id": "Fx06W12FqKRA"
      }
    },
    {
      "cell_type": "code",
      "source": [
        "math.sin(1)"
      ],
      "metadata": {
        "colab": {
          "base_uri": "https://localhost:8080/"
        },
        "id": "FEFLA5GfqJop",
        "outputId": "9096a247-8102-4c21-ab56-2c13ac6ea311"
      },
      "execution_count": 3,
      "outputs": [
        {
          "output_type": "execute_result",
          "data": {
            "text/plain": [
              "0.8414709848078965"
            ]
          },
          "metadata": {},
          "execution_count": 3
        }
      ]
    },
    {
      "cell_type": "code",
      "source": [
        "print(math.pi)"
      ],
      "metadata": {
        "colab": {
          "base_uri": "https://localhost:8080/"
        },
        "id": "exbgWHsYqbSo",
        "outputId": "bb3d349e-9ea4-49ef-c7c6-3e8ae4773e99"
      },
      "execution_count": 4,
      "outputs": [
        {
          "output_type": "stream",
          "name": "stdout",
          "text": [
            "3.141592653589793\n"
          ]
        }
      ]
    },
    {
      "cell_type": "code",
      "source": [
        "print(math.sqrt(2))"
      ],
      "metadata": {
        "colab": {
          "base_uri": "https://localhost:8080/"
        },
        "id": "9xMWlEAKqneQ",
        "outputId": "3fce9a4c-c017-48fa-ead6-34dfd8561707"
      },
      "execution_count": 5,
      "outputs": [
        {
          "output_type": "stream",
          "name": "stdout",
          "text": [
            "1.4142135623730951\n"
          ]
        }
      ]
    },
    {
      "cell_type": "markdown",
      "source": [
        "En ocasiones resulta tedioso repetir constantemente el nombre del módulo, podemos optar por asignar una etiqueta màs sencilla al módulo que importemos. Veamos un ejemplo: "
      ],
      "metadata": {
        "id": "959MhIy-qkT_"
      }
    },
    {
      "cell_type": "code",
      "source": [
        "import math as m"
      ],
      "metadata": {
        "id": "4OhExg2Iqjg6"
      },
      "execution_count": null,
      "outputs": []
    },
    {
      "cell_type": "markdown",
      "source": [
        "En este caso la etiquete que hemos utilizado es simplemente la letra m, por lo que ahora podemos utilizar las funciones dentro de `math` de la siguiente manera:"
      ],
      "metadata": {
        "id": "ZHAwmCC6rY1b"
      }
    },
    {
      "cell_type": "code",
      "source": [
        "m.pi"
      ],
      "metadata": {
        "id": "jCQCMD6QqfXQ"
      },
      "execution_count": null,
      "outputs": []
    },
    {
      "cell_type": "code",
      "source": [
        "print(m.sin(1))"
      ],
      "metadata": {
        "id": "J8xxM5pfrrhc"
      },
      "execution_count": null,
      "outputs": []
    },
    {
      "cell_type": "markdown",
      "source": [
        "### Módulo **numpy**\n",
        "Es uno de los módulos más ampliamente utilizados. Su principal función es proveer de herramientas que permitan trabajar con arreglos y funciones matemáticas de una forma más versátil que através del módulo math."
      ],
      "metadata": {
        "id": "e1IDTwOJrv--"
      }
    },
    {
      "cell_type": "code",
      "source": [
        "import numpy as np"
      ],
      "metadata": {
        "id": "9dapfV1KYPbM"
      },
      "execution_count": 6,
      "outputs": []
    },
    {
      "cell_type": "markdown",
      "source": [
        "Veamos algunas maneras de crear arreglos con numpy\n",
        "\n",
        "##### $\\bullet$ Especificando cada elemento en el arreglo\n"
      ],
      "metadata": {
        "id": "MI_aaazsitVo"
      }
    },
    {
      "cell_type": "code",
      "source": [
        "# arreglo unindimensional\n",
        "v=np.array([1.1,2.3,3.5,4.2])"
      ],
      "metadata": {
        "id": "HPEjl9LsgqvJ"
      },
      "execution_count": 9,
      "outputs": []
    },
    {
      "cell_type": "code",
      "source": [
        "print(v)"
      ],
      "metadata": {
        "colab": {
          "base_uri": "https://localhost:8080/"
        },
        "id": "utGPnozFkRkB",
        "outputId": "df721aea-7cc4-4e80-8487-fd1339203fc5"
      },
      "execution_count": 10,
      "outputs": [
        {
          "output_type": "stream",
          "name": "stdout",
          "text": [
            "[1.1 2.3 3.5 4.2]\n"
          ]
        }
      ]
    },
    {
      "cell_type": "code",
      "source": [
        "# arreglo bidimensional (matriz)\n",
        "\n",
        "m=np.array([[1,2,3,4],[5,6,7,8]])\n",
        "\n",
        "print(m)"
      ],
      "metadata": {
        "colab": {
          "base_uri": "https://localhost:8080/"
        },
        "id": "-mmm8apZkTQr",
        "outputId": "43e5fb89-c0d9-496f-9e7a-e2c0519ed12a"
      },
      "execution_count": 11,
      "outputs": [
        {
          "output_type": "stream",
          "name": "stdout",
          "text": [
            "[[1 2 3 4]\n",
            " [5 6 7 8]]\n"
          ]
        }
      ]
    },
    {
      "cell_type": "markdown",
      "source": [
        "De forma similar a las listas, podemos acceder a los elementos de un arreglo mediante índices los cuales comienzan a partir del cero. Veamos ejemplos:"
      ],
      "metadata": {
        "id": "hpsCQrQklI5G"
      }
    },
    {
      "cell_type": "code",
      "source": [
        "v=np.array([1.1,2.3,3.5,4.2])\n",
        "\n",
        "print(v[0])"
      ],
      "metadata": {
        "colab": {
          "base_uri": "https://localhost:8080/"
        },
        "id": "zTKMYN2Tkr-4",
        "outputId": "ad39eeec-1f98-40dc-ce4b-19c8388da090"
      },
      "execution_count": 12,
      "outputs": [
        {
          "output_type": "stream",
          "name": "stdout",
          "text": [
            "1.1\n"
          ]
        }
      ]
    },
    {
      "cell_type": "code",
      "source": [
        "print(v[2])"
      ],
      "metadata": {
        "colab": {
          "base_uri": "https://localhost:8080/"
        },
        "id": "ij_XCepklyo6",
        "outputId": "099ac04c-eb51-4cd9-de56-63faa46c6ab8"
      },
      "execution_count": 13,
      "outputs": [
        {
          "output_type": "stream",
          "name": "stdout",
          "text": [
            "3.5\n"
          ]
        }
      ]
    },
    {
      "cell_type": "code",
      "source": [
        "\n",
        "m=np.array([[1,2,3,4],[5,6,7,8]])\n",
        "\n",
        "print(m[0][3])"
      ],
      "metadata": {
        "colab": {
          "base_uri": "https://localhost:8080/"
        },
        "id": "FIBZeUq-l2Kc",
        "outputId": "4b1dc1f6-94be-44dd-8cc5-0ff519df0fa2"
      },
      "execution_count": 15,
      "outputs": [
        {
          "output_type": "stream",
          "name": "stdout",
          "text": [
            "4\n"
          ]
        }
      ]
    },
    {
      "cell_type": "code",
      "source": [],
      "metadata": {
        "id": "2didv6Xdl85t"
      },
      "execution_count": null,
      "outputs": []
    },
    {
      "cell_type": "markdown",
      "source": [
        "##### $\\bullet$ Utilizando alguna forma rápida\n",
        "\n",
        "###### **Arreglo de 1's**\n",
        "La instrucción `ones( )` nos permite crear rápidamente un arreglos con todas sus entradas iguales a `1`, solamente necesitamos especificar la dimensión del arreglo:\n"
      ],
      "metadata": {
        "id": "yqqqocuLmM_z"
      }
    },
    {
      "cell_type": "code",
      "source": [
        "u=np.ones(20)\n",
        "print(u)"
      ],
      "metadata": {
        "colab": {
          "base_uri": "https://localhost:8080/"
        },
        "id": "b9HuSdEMm3n1",
        "outputId": "764c6e84-fdba-43fd-d80e-a57eda6ac66d"
      },
      "execution_count": 16,
      "outputs": [
        {
          "output_type": "stream",
          "name": "stdout",
          "text": [
            "[1. 1. 1. 1. 1. 1. 1. 1. 1. 1. 1. 1. 1. 1. 1. 1. 1. 1. 1. 1.]\n"
          ]
        }
      ]
    },
    {
      "cell_type": "code",
      "source": [
        "m=np.ones((3,5))\n",
        "print(m)"
      ],
      "metadata": {
        "colab": {
          "base_uri": "https://localhost:8080/"
        },
        "id": "GwKgYPvxm7yw",
        "outputId": "1e1960a0-0e03-4b54-f64d-2bd8279adb81"
      },
      "execution_count": 17,
      "outputs": [
        {
          "output_type": "stream",
          "name": "stdout",
          "text": [
            "[[1. 1. 1. 1. 1.]\n",
            " [1. 1. 1. 1. 1.]\n",
            " [1. 1. 1. 1. 1.]]\n"
          ]
        }
      ]
    },
    {
      "cell_type": "markdown",
      "source": [
        "##### **Arreglo de 0's**\n",
        "De forma análoga `ones`, la instrucción `zeros( )` crea un arreglo del tamaño especificado pero con todas sus entradas iguales a cero."
      ],
      "metadata": {
        "id": "Ar_sIaXqnG4p"
      }
    },
    {
      "cell_type": "code",
      "source": [
        "z=np.zeros(10)\n",
        "print(z)"
      ],
      "metadata": {
        "colab": {
          "base_uri": "https://localhost:8080/"
        },
        "id": "4vnztxvnnBF2",
        "outputId": "c1484516-e746-4c9c-da24-0a281e63a32a"
      },
      "execution_count": 18,
      "outputs": [
        {
          "output_type": "stream",
          "name": "stdout",
          "text": [
            "[0. 0. 0. 0. 0. 0. 0. 0. 0. 0.]\n"
          ]
        }
      ]
    },
    {
      "cell_type": "code",
      "source": [
        "m=np.zeros((2,2))\n",
        "print(m)"
      ],
      "metadata": {
        "colab": {
          "base_uri": "https://localhost:8080/"
        },
        "id": "cy28D8pJnflU",
        "outputId": "a781f6ce-073f-41ec-cb92-5d3151a62816"
      },
      "execution_count": 19,
      "outputs": [
        {
          "output_type": "stream",
          "name": "stdout",
          "text": [
            "[[0. 0.]\n",
            " [0. 0.]]\n"
          ]
        }
      ]
    },
    {
      "cell_type": "markdown",
      "source": [
        "##### **Arreglos con entradas uniformemente distribuidas**\n",
        "La instrucción `linspace(inicio,fin,#entradas )` nos permite crear un arreglo cuya primer entrada (entrada con el índice 0) coincide con el primer argumento de la función, cuyo último elemento tiene un valor igual al segundo argumento de la función, y tienen tantas entradas como especifiquemos en el tercer argumento. El resto de las entradas tiene asignado un valor proporcional a la posición que ocupa en el arreglo."
      ],
      "metadata": {
        "id": "DD3pX4-UoTmN"
      }
    },
    {
      "cell_type": "code",
      "source": [
        "x=np.linspace(2.1,20.2,40)"
      ],
      "metadata": {
        "id": "Ro6g4JRyoEpG"
      },
      "execution_count": 34,
      "outputs": []
    },
    {
      "cell_type": "code",
      "source": [
        "print(x)"
      ],
      "metadata": {
        "colab": {
          "base_uri": "https://localhost:8080/"
        },
        "id": "mKvj_Qb5olys",
        "outputId": "a23b685b-5dae-43a8-e4f5-928810a44f10"
      },
      "execution_count": 35,
      "outputs": [
        {
          "output_type": "stream",
          "name": "stdout",
          "text": [
            "[ 2.1         2.56410256  3.02820513  3.49230769  3.95641026  4.42051282\n",
            "  4.88461538  5.34871795  5.81282051  6.27692308  6.74102564  7.20512821\n",
            "  7.66923077  8.13333333  8.5974359   9.06153846  9.52564103  9.98974359\n",
            " 10.45384615 10.91794872 11.38205128 11.84615385 12.31025641 12.77435897\n",
            " 13.23846154 13.7025641  14.16666667 14.63076923 15.09487179 15.55897436\n",
            " 16.02307692 16.48717949 16.95128205 17.41538462 17.87948718 18.34358974\n",
            " 18.80769231 19.27179487 19.73589744 20.2       ]\n"
          ]
        }
      ]
    },
    {
      "cell_type": "markdown",
      "source": [
        "##### **Arreglo especificando los límites y el incremento**\n",
        "A diferencia de la instrucción `linspace`, aquí utilizaremos la instrucción `arange( )` para crear un arreglo cuya primer y última entrada coinciden con los extremos de un intervalo, pero el número de entradas no lo especificaremos sino que quedará determinado en función del incremento en el que varían las entradas. Veamos un ejemplo:"
      ],
      "metadata": {
        "id": "-7h44eSdqlQ-"
      }
    },
    {
      "cell_type": "code",
      "source": [
        "y=np.arange(2,4.7,0.15)"
      ],
      "metadata": {
        "id": "yNfE1DAlom1m"
      },
      "execution_count": 36,
      "outputs": []
    },
    {
      "cell_type": "code",
      "source": [
        "print(y)"
      ],
      "metadata": {
        "colab": {
          "base_uri": "https://localhost:8080/"
        },
        "id": "0F6J1rJHq2rY",
        "outputId": "fdca7fb5-8498-42b6-81db-ae9661632459"
      },
      "execution_count": 37,
      "outputs": [
        {
          "output_type": "stream",
          "name": "stdout",
          "text": [
            "[2.   2.15 2.3  2.45 2.6  2.75 2.9  3.05 3.2  3.35 3.5  3.65 3.8  3.95\n",
            " 4.1  4.25 4.4  4.55 4.7 ]\n"
          ]
        }
      ]
    },
    {
      "cell_type": "markdown",
      "source": [
        "En el ejemplo anterior, los extremos del intervalo en el que queremos definir el arreglo son 2 y 4.7, respectivamente. Mientras que el 0.15 determina el tamaño de paso o incremento entre cada entrada y la siguiente."
      ],
      "metadata": {
        "id": "OdL4HzNHsH0y"
      }
    },
    {
      "cell_type": "markdown",
      "source": [
        "Cuando hemos creado un arreglo, puede ser necesario corroborar el número de entradas que tiene para evitar o detectar posibles errores en las instruccionesque queremos ejecutar. Para esto, podemos hacer uso de la instrucción `shape`:"
      ],
      "metadata": {
        "id": "cmiFIG80tvaN"
      }
    },
    {
      "cell_type": "code",
      "source": [
        "y=np.arange(2,4.7,0.15)\n",
        "print(y.shape)"
      ],
      "metadata": {
        "colab": {
          "base_uri": "https://localhost:8080/"
        },
        "id": "QkwfjzPZq3uz",
        "outputId": "f682c9b2-cbc5-4f89-f505-010344a5e768"
      },
      "execution_count": 38,
      "outputs": [
        {
          "output_type": "stream",
          "name": "stdout",
          "text": [
            "(19,)\n"
          ]
        }
      ]
    },
    {
      "cell_type": "code",
      "source": [
        "m=np.zeros((4,5))\n",
        "m.shape"
      ],
      "metadata": {
        "colab": {
          "base_uri": "https://localhost:8080/"
        },
        "id": "zPAmdvnnuMy5",
        "outputId": "7c50a5bf-d224-4c40-c043-82317ab8566f"
      },
      "execution_count": 39,
      "outputs": [
        {
          "output_type": "execute_result",
          "data": {
            "text/plain": [
              "(4, 5)"
            ]
          },
          "metadata": {},
          "execution_count": 39
        }
      ]
    },
    {
      "cell_type": "markdown",
      "source": [
        "### Operaciones con arreglos\n",
        "\n",
        "##### **Cambiar el valor de una entrada**\n",
        "Los valores en las entradas de un arreglo de numpy siempre pueden modificarse:\n"
      ],
      "metadata": {
        "id": "TnkUBJEEuoeU"
      }
    },
    {
      "cell_type": "code",
      "source": [
        "x=np.zeros(10)\n",
        "x[5]=4.44\n",
        "\n",
        "print(x)"
      ],
      "metadata": {
        "colab": {
          "base_uri": "https://localhost:8080/"
        },
        "id": "uqEOO0cPuXAz",
        "outputId": "d1ab8bdb-29e6-4cb9-bd61-681e2efc6b9a"
      },
      "execution_count": 40,
      "outputs": [
        {
          "output_type": "stream",
          "name": "stdout",
          "text": [
            "[0.   0.   0.   0.   0.   4.44 0.   0.   0.   0.  ]\n"
          ]
        }
      ]
    },
    {
      "cell_type": "markdown",
      "source": [
        "### Producto punto\n",
        "\n",
        "Cuando se trabajan con arreglos hay dos que pueden utilizarse con cierta frecuencia. La primera que revisaremos es el _producto escalar_ o _producto punto_ entre dos arreglos de la misma dimensión. Supongamos que tenemos los siguientes dos arreglos:\n",
        "\n",
        "<center>\n",
        "$x=(x_1,x_2,x_3,x_4,x_5)$\n",
        "<br>\n",
        "$y=(y_1,y_2,y_3,y_4,y_5)$\n",
        "</center>\n",
        "\n",
        "El producto escalar de $x$ y $y$ lo podemos denotar como $x\\cdot y$ y consiste en multiplicar cada entrada de un arreglo por su correspondiente entrada en el segundo arreglo, y finalmente sumar todos estos productos, es decir,\n",
        "\n",
        "<center>\n",
        "$x\\cdot y=x_1\\,y_1+x_2\\,y_2+x_3\\,y_3+x_4\\,y_4+x_5\\,y_5$\n",
        "</center>\n",
        "\n",
        "Esta misma operación la podemos calcular en numpy de la siguiente forma:"
      ],
      "metadata": {
        "id": "FGzhGa6-xW9K"
      }
    },
    {
      "cell_type": "code",
      "source": [
        "x=np.array([2,3,4,5,6,7])\n",
        "y=np.array([1.1,1.1,2.2,2.2,3.3,3.3])\n",
        "\n",
        "np.dot(x,y)"
      ],
      "metadata": {
        "colab": {
          "base_uri": "https://localhost:8080/"
        },
        "id": "8gpTTS_8zaSX",
        "outputId": "e7f9de21-291c-4521-eb54-1b474d2f5a38"
      },
      "execution_count": 41,
      "outputs": [
        {
          "output_type": "execute_result",
          "data": {
            "text/plain": [
              "68.19999999999999"
            ]
          },
          "metadata": {},
          "execution_count": 41
        }
      ]
    },
    {
      "cell_type": "markdown",
      "source": [
        "Podemos utilizar esta misma instrucción `np.dot` para multiplicar una matriz y un vector de acuerdo a la siguiente regla:\n",
        "\n",
        "<center>\n",
        "$\\begin{pmatrix}m_{11}& m_{12}\\\\\n",
        "m_{21}& m_{22} \\end{pmatrix}\\begin{pmatrix} x_1\\\\x_2 \\end{pmatrix}=\\begin{pmatrix} m_{11}x_1+ m_{12}x_2\\\\\n",
        "m_{21}x_1+ m_{22}x_2\\end{pmatrix}$\n",
        "</center>\n",
        "\n",
        "Sin embargo, para que esta operación sea posible es necesario que la matriz tenga $n\\times m$ entradas y el vector $m$ entradas.\n",
        "\n",
        "Veamos un ejemplo:"
      ],
      "metadata": {
        "id": "0tymDYpKz7jk"
      }
    },
    {
      "cell_type": "code",
      "source": [
        "m=np.array([[2,0],[0,2]])\n",
        "x=np.array([1.1,3.3])\n",
        "\n",
        "print(m)\n",
        "\n",
        "print(x)"
      ],
      "metadata": {
        "colab": {
          "base_uri": "https://localhost:8080/"
        },
        "id": "0tAoSOZhz6rY",
        "outputId": "a631d97b-6997-4df8-afa2-eee810ac7a42"
      },
      "execution_count": 42,
      "outputs": [
        {
          "output_type": "stream",
          "name": "stdout",
          "text": [
            "[[2 0]\n",
            " [0 2]]\n",
            "[1.1 3.3]\n"
          ]
        }
      ]
    },
    {
      "cell_type": "code",
      "source": [
        "np.dot(m,x)"
      ],
      "metadata": {
        "colab": {
          "base_uri": "https://localhost:8080/"
        },
        "id": "cnjysA9g12pB",
        "outputId": "acaa9bcd-46cf-487c-dc06-96690e30f779"
      },
      "execution_count": 43,
      "outputs": [
        {
          "output_type": "execute_result",
          "data": {
            "text/plain": [
              "array([2.2, 6.6])"
            ]
          },
          "metadata": {},
          "execution_count": 43
        }
      ]
    },
    {
      "cell_type": "markdown",
      "source": [
        "#### Evaluar una función matemática en cada entrada de un arreglo\n",
        "Funciones matemáticas como `sin`, `cos`, `tan`, `log`, `log10`, `exp`, `sqrt`, etc también las podemos encontrar definidas en numpy. Podemos aplicar directamente estas funciones a arreglos y numpy devolverá un el arreglo que resulta de evaluar la función matemática en cada entrada del arreglo inicial."
      ],
      "metadata": {
        "id": "d2od3l-Uvcq5"
      }
    },
    {
      "cell_type": "code",
      "source": [
        "x=np.linspace(0,2*np.pi,30)\n",
        "\n",
        "y=np.sin(x)"
      ],
      "metadata": {
        "id": "gmo6nsmKvU8E"
      },
      "execution_count": 45,
      "outputs": []
    },
    {
      "cell_type": "markdown",
      "source": [
        "### Gráfica de funciones matemáticas\n",
        "\n",
        "Uno de los módulos en Python que se utiliza para graficar es el módulo `matplotlib`. La documentación de este módulo puede consultarse en el siguiente [link](https://matplotlib.org/stable/gallery/index)\n",
        "\n",
        "Aquí sólo abordaremos las gráficas más sencillas con este módulo, a saber, vamos a graficar una función matemática y a agregar nombre a los ejes y título."
      ],
      "metadata": {
        "id": "7OESoOjL4xEk"
      }
    },
    {
      "cell_type": "code",
      "source": [
        "# Ejemplo de una grafica\n",
        "\n",
        "import matplotlib.pyplot as plt\n",
        "\n",
        "x=np.linspace(0,2*np.pi,30)\n",
        "y=np.sin(x)\n",
        "\n",
        "plt.plot(x,y)\n",
        "plt.show()"
      ],
      "metadata": {
        "colab": {
          "base_uri": "https://localhost:8080/",
          "height": 265
        },
        "id": "80VcFWBi5yGt",
        "outputId": "b0a785c6-034b-4426-e478-6f09d447d08e"
      },
      "execution_count": 46,
      "outputs": [
        {
          "output_type": "display_data",
          "data": {
            "text/plain": [
              "<Figure size 432x288 with 1 Axes>"
            ],
            "image/png": "[encoded data removed]"
          },
          "metadata": {
            "needs_background": "light"
          }
        }
      ]
    },
    {
      "cell_type": "markdown",
      "source": [
        "Modifiquemos el ejemplo anterior para agregar nombre a los ejes y título"
      ],
      "metadata": {
        "id": "5-zNTH3z6KsL"
      }
    },
    {
      "cell_type": "code",
      "source": [
        "import matplotlib.pyplot as plt\n",
        "\n",
        "x=np.linspace(0,2*np.pi,30)\n",
        "y=np.sin(x)\n",
        "\n",
        "plt.plot(x,y)\n",
        "\n",
        "plt.xlabel(\"Eje X\")\n",
        "plt.ylabel(\"Eje Y\")\n",
        "plt.title(\"Título\")\n",
        "plt.show()"
      ],
      "metadata": {
        "colab": {
          "base_uri": "https://localhost:8080/",
          "height": 295
        },
        "id": "gRnokfR058Eb",
        "outputId": "b8d04347-c7ce-4c56-c974-53d04e71ae8e"
      },
      "execution_count": 49,
      "outputs": [
        {
          "output_type": "display_data",
          "data": {
            "text/plain": [
              "<Figure size 432x288 with 1 Axes>"
            ],
            "image/png": "[encoded data removed]"
          },
          "metadata": {
            "needs_background": "light"
          }
        }
      ]
    },
    {
      "cell_type": "markdown",
      "source": [
        "Adicionalmente podemos ajustar los límites de la gráfica:"
      ],
      "metadata": {
        "id": "haWBrCwH6l4F"
      }
    },
    {
      "cell_type": "code",
      "source": [
        "import matplotlib.pyplot as plt\n",
        "\n",
        "x=np.linspace(0,2*np.pi,30)\n",
        "y=np.sin(x)\n",
        "\n",
        "plt.plot(x,y)\n",
        "\n",
        "plt.xlabel(\"Eje X\")\n",
        "plt.ylabel(\"Eje Y\")\n",
        "plt.title(\"Título\")\n",
        "\n",
        "plt.xlim((1,5))\n",
        "plt.ylim((-0.75,0.75))\n",
        "\n",
        "plt.show()"
      ],
      "metadata": {
        "colab": {
          "base_uri": "https://localhost:8080/",
          "height": 295
        },
        "id": "lYbqtCME6Uke",
        "outputId": "c78ee5b6-534b-45a8-df90-de83890ffb54"
      },
      "execution_count": 51,
      "outputs": [
        {
          "output_type": "display_data",
          "data": {
            "text/plain": [
              "<Figure size 432x288 with 1 Axes>"
            ],
            "image/png": "[encoded data removed]"
          },
          "metadata": {
            "needs_background": "light"
          }
        }
      ]
    },
    {
      "cell_type": "markdown",
      "source": [
        "También podemos agregar un grid para ayudar en la lectura de la gráfica"
      ],
      "metadata": {
        "id": "w1mEfN5R7rVu"
      }
    },
    {
      "cell_type": "code",
      "source": [
        "import matplotlib.pyplot as plt\n",
        "\n",
        "x=np.linspace(0,2*np.pi,30)\n",
        "y=np.sin(x)\n",
        "\n",
        "plt.plot(x,y)\n",
        "\n",
        "plt.xlabel(\"Eje X\")\n",
        "plt.ylabel(\"Eje Y\")\n",
        "plt.title(\"Título\")\n",
        "\n",
        "plt.grid(True)\n",
        "plt.show()"
      ],
      "metadata": {
        "colab": {
          "base_uri": "https://localhost:8080/",
          "height": 295
        },
        "id": "7zSD6fEc7fkC",
        "outputId": "4eaf1ae4-8099-4afb-ac9d-6cf9a4250a10"
      },
      "execution_count": 52,
      "outputs": [
        {
          "output_type": "display_data",
          "data": {
            "text/plain": [
              "<Figure size 432x288 with 1 Axes>"
            ],
            "image/png": "[encoded data removed]"
          },
          "metadata": {
            "needs_background": "light"
          }
        }
      ]
    },
    {
      "cell_type": "markdown",
      "source": [
        "En la gráfica anterior puede no ser muy evidente la manera en la que se gereró la gráfica ya que está representada por una línea continua, aunque en realidad a evaluado la función seno en las entradas de un vector. \n",
        "\n",
        "Para evidenciar lo anterior, podemos modificar los marcadores, el estilo de linea y incluso el color, veamos algunos ejemplos:"
      ],
      "metadata": {
        "id": "Hvjh00898EVN"
      }
    },
    {
      "cell_type": "code",
      "source": [
        "import matplotlib.pyplot as plt\n",
        "\n",
        "x=np.linspace(0,2*np.pi,30)\n",
        "y=np.sin(x)\n",
        "\n",
        "plt.plot(x,y,'o', color=(1,1,0))\n",
        "\n",
        "plt.xlabel(\"Eje X\")\n",
        "plt.ylabel(\"Eje Y\")\n",
        "plt.title(\"Título\")\n",
        "\n",
        "\n",
        "plt.show()"
      ],
      "metadata": {
        "colab": {
          "base_uri": "https://localhost:8080/",
          "height": 295
        },
        "id": "REVx17dn70T_",
        "outputId": "80c5681a-08f4-46d8-f10c-1363c6e0509d"
      },
      "execution_count": 53,
      "outputs": [
        {
          "output_type": "display_data",
          "data": {
            "text/plain": [
              "<Figure size 432x288 with 1 Axes>"
            ],
            "image/png": "[encoded data removed]"
          },
          "metadata": {
            "needs_background": "light"
          }
        }
      ]
    },
    {
      "cell_type": "code",
      "source": [
        "import matplotlib.pyplot as plt\n",
        "\n",
        "x=np.linspace(0,2*np.pi,30)\n",
        "y=np.sin(x)\n",
        "\n",
        "plt.plot(x,y,'-o', color=(0,1,0), ls='--') # 'ls' en este contexto significa 'line style'\n",
        "\n",
        "plt.xlabel(\"Eje X\")\n",
        "plt.ylabel(\"Eje Y\")\n",
        "plt.title(\"Título\")\n",
        "\n",
        "\n",
        "plt.show()"
      ],
      "metadata": {
        "colab": {
          "base_uri": "https://localhost:8080/",
          "height": 295
        },
        "id": "inPBpDKt-Dhm",
        "outputId": "30fcd04c-1538-4e0f-bd36-dd5002981a43"
      },
      "execution_count": 55,
      "outputs": [
        {
          "output_type": "display_data",
          "data": {
            "text/plain": [
              "<Figure size 432x288 with 1 Axes>"
            ],
            "image/png": "[encoded data removed]"
          },
          "metadata": {
            "needs_background": "light"
          }
        }
      ]
    },
    {
      "cell_type": "markdown",
      "source": [
        "### Campos vectoriales en el plano\n",
        "\n",
        "Llamamos campo vectorial a una función que asigna a cada punto del espacio (en este caso el plano) un vector. Este tipo de objetos matemáticos es de utilidad para representar diferentes fenómenos físicos.\n",
        "\n",
        "Veremos como generar un gráfico que represente a un campo vectorial, por ejemplo, el campo de velocidades en un fluido (por fijar ideas):"
      ],
      "metadata": {
        "id": "uekICM6C-b14"
      }
    },
    {
      "cell_type": "code",
      "source": [
        "# Comenzamos por considerar un dominio, por ejemplo\n",
        "# el rectángulo [-10,10]x[-5,5]\n",
        "# y discreticemoslo en 100 partes (i.e. 10 divisiones en cada direccion)\n",
        "\n",
        "import numpy as np\n",
        "import matplotlib.pyplot as plt\n",
        "\n",
        "\n",
        "a1,b1=-10,10\n",
        "a2,b2=-5,5\n",
        "x,y = np.meshgrid(np.linspace(a1,b1,10),np.linspace(a2,b2,10))\n",
        "\n"
      ],
      "metadata": {
        "id": "LZBUeJqc-KHs"
      },
      "execution_count": 56,
      "outputs": []
    },
    {
      "cell_type": "markdown",
      "source": [
        "Supongamos que la velocidad en cada punto del flujo es igual a (1,0), es decir, el fluido se mueve en la dirección x a velocidad constante:"
      ],
      "metadata": {
        "id": "mlHRhL_QCMep"
      }
    },
    {
      "cell_type": "code",
      "source": [
        "u = 1\n",
        "v = 0\n",
        "\n",
        "plt.quiver(x,y,u,v)\n",
        "plt.show()"
      ],
      "metadata": {
        "colab": {
          "base_uri": "https://localhost:8080/",
          "height": 265
        },
        "id": "H2buTuuqCI6T",
        "outputId": "2aed55da-30f6-41c4-9224-08a96f33306d"
      },
      "execution_count": 57,
      "outputs": [
        {
          "output_type": "display_data",
          "data": {
            "text/plain": [
              "<Figure size 432x288 with 1 Axes>"
            ],
            "image/png": "[encoded data removed]"
          },
          "metadata": {
            "needs_background": "light"
          }
        }
      ]
    },
    {
      "cell_type": "markdown",
      "source": [
        "Lainstrucción que hemos utilizado para generar este campo, es `quiver`. Ésta toma cuatro argumentos, los primeros dos corresponden a los puntos del mallado (donde evaluaremos el campo), y los últimos dos argumentos, corresponden a la dirección (vector) asignada  a cada punto del plano."
      ],
      "metadata": {
        "id": "r1lDObmpChmx"
      }
    },
    {
      "cell_type": "code",
      "source": [],
      "metadata": {
        "id": "SobCdwG0CeTW"
      },
      "execution_count": null,
      "outputs": []
    }
  ]
}