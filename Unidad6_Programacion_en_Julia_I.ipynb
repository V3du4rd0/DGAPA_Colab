{
  "nbformat": 4,
  "nbformat_minor": 0,
  "metadata": {
    "colab": {
      "provenance": []
    },
    "kernelspec": {
      "name": "python3",
      "display_name": "Python 3"
    },
    "language_info": {
      "name": "python"
    }
  },
  "cells": [
    {
      "cell_type": "markdown",
      "source": [
        "# Introducción a Julia\n",
        "\n",
        "Julia es otro lenguaje de Programación de código abierto comparable en fácilidad y uso con Matlab, Python y R. Su principal ventaja respecto Python es la rapidez para realizar cálculos.\n",
        "\n",
        "La documentación de Julia puede consultarse en la [página oficial](https://julialang.org/).\n",
        "\n",
        "Veremos dos maneras de correr scripts de Julia desde Colab. La primera utilizando comandos mágicos, y la segunda a través de una configuración en Colab que modificará las celdas de código para que acepten lenguaje Julia *nativamente*.\n",
        "\n",
        "Comencemos con la primera a través de comandos mágicos:"
      ],
      "metadata": {
        "id": "l7XYJfwX7wZX"
      }
    },
    {
      "cell_type": "code",
      "execution_count": null,
      "metadata": {
        "id": "4cH98yqdi98v"
      },
      "outputs": [],
      "source": [
        "# Descargamos Julia desde la pagina oficial\n",
        "%%capture\n",
        "!wget https://julialang-s3.julialang.org/bin/linux/x64/1.8/julia-1.8.5-linux-x86_64.tar.gz"
      ]
    },
    {
      "cell_type": "code",
      "source": [
        "# Descomprimimos el archivo\n",
        "%%capture\n",
        "!tar -xvf julia-1.8.5-linux-x86_64.tar.gz"
      ],
      "metadata": {
        "id": "0ZcyULdzjTgL"
      },
      "execution_count": null,
      "outputs": []
    },
    {
      "cell_type": "code",
      "source": [
        "!ls"
      ],
      "metadata": {
        "colab": {
          "base_uri": "https://localhost:8080/"
        },
        "id": "HDV1X99Ajnb9",
        "outputId": "8f842cda-7413-448c-c08d-d12ad66a6820"
      },
      "execution_count": null,
      "outputs": [
        {
          "output_type": "stream",
          "name": "stdout",
          "text": [
            "julia-1.8.5  julia-1.8.5-linux-x86_64.tar.gz  sample_data\n"
          ]
        }
      ]
    },
    {
      "cell_type": "code",
      "source": [
        "# El ejecutable se encuentra en el directorio 'bin' dentro de \n",
        "# la carpeta donde se descomprimio el archivo tar\n",
        "!julia-1.8.5/bin/julia --version"
      ],
      "metadata": {
        "colab": {
          "base_uri": "https://localhost:8080/"
        },
        "id": "JTzD42cxjpAJ",
        "outputId": "d578810f-b2a4-4570-c19f-4593c609d1e0"
      },
      "execution_count": null,
      "outputs": [
        {
          "output_type": "stream",
          "name": "stdout",
          "text": [
            "julia version 1.8.5\n"
          ]
        }
      ]
    },
    {
      "cell_type": "markdown",
      "source": [
        "Usando el comando mágico **writefile** crearemos un script de Julia (el `hola mundo`)"
      ],
      "metadata": {
        "id": "kkh6F23S-QP8"
      }
    },
    {
      "cell_type": "code",
      "source": [
        "%%writefile hello_julia.jl\n",
        "print(\"Hello World\")"
      ],
      "metadata": {
        "colab": {
          "base_uri": "https://localhost:8080/"
        },
        "id": "CYwJ72OWlYRL",
        "outputId": "1f3d1d2f-1e9b-4482-c261-102c53fa6339"
      },
      "execution_count": null,
      "outputs": [
        {
          "output_type": "stream",
          "name": "stdout",
          "text": [
            "Writing hello_julia.jl\n"
          ]
        }
      ]
    },
    {
      "cell_type": "code",
      "source": [
        "# Podemos correr el script usando Julia\n",
        "# de la misma forma que aprendimos al comienzo de la Unidad 6\n",
        "!julia-1.8.5/bin/julia hello_julia.jl"
      ],
      "metadata": {
        "colab": {
          "base_uri": "https://localhost:8080/"
        },
        "id": "BOwIBvQdlKga",
        "outputId": "614303e7-855a-4b5b-a18f-311bc7b22179"
      },
      "execution_count": null,
      "outputs": [
        {
          "output_type": "stream",
          "name": "stdout",
          "text": [
            "Hello World"
          ]
        }
      ]
    },
    {
      "cell_type": "markdown",
      "source": [
        "# Colab como intérprete de Julia \n",
        "\n",
        "En lugar de crear archivos con extensión _.jl_ para explorar Julia, haremos que las celdas de código de Colab se conviertan en intérpretes de Julia. De esta manera la exploración de Julia será más interactiva.\n",
        "\n",
        "En línea se encuentran disponibles muchos notebooks que muestran cómo realizar esta instalación y hemos tomado como referencia [uno de ellos](https://colab.research.google.com/github/Dsantra92/Julia-on-Colab/blob/master/Julia_on_colab.ipynb#scrollTo=PMGwZ7aFJL8Y). Sin embargo, muchos de estos notebooks no advierten que aún si utilizamos sus mismas líneas de código en nuestro propio notebook, no lograremos ejecutar Julia directamente en las celdas de nuestro notebook; sin embargo, el notebook que nos proporcionan sí funciona.\n",
        "\n",
        "Para entender esto, revisemos la cabecera de los notebooks como archivos: \n",
        "\n",
        "Si descargamos cualquier notebook desde Colab (**File** > **Download** > **Download .ipynb**) y lo abrimos con cualquier editor de texto en nuestra computadora, veríamos que dentro de las primeras líneas se encuentra un texto con una estructura como la siguiente:\n",
        "\n",
        "`{`<br>\n",
        "  `\"nbformat\": 4,`<br>\n",
        "  `\"nbformat_minor\": 0,`<br>\n",
        "  `\"metadata\": {`<br>\n",
        "    `\"colab\": {`<br>\n",
        "      `\"provenance\": []`<br>\n",
        "    `},`<br>\n",
        "    `\"kernelspec\": {`<br>\n",
        "      `\"name\": \"python3\",`<br>\n",
        "      `\"display_name\": \"Python 3\"`<br>\n",
        "    `},`<br>\n",
        "    `\"language_info\": {`<br>\n",
        "      `\"name\": \"python\"`<br>\n",
        "    `}`<br>\n",
        "Cuando cargamos uno de estos archivos notebook a Colab, son estas líneas las que le dan información sobre qué tipo de lenguaje debe esperar que ingresemos.\n",
        "\n",
        "En los notebooks que muestran como instalar Julia *nativamente* en Colab, no mencionan que estos bloques de líneas **kernelspec** y **language_info** deben ser distintos para que funcione con Julia y que no basta con instalar Julia. \n",
        "\n",
        "En el repositorio de este curso hemos agregado un notebook vacio tal cual como podemos crearlo y descargarlo con Colab. La siguiente celda lo descarga en la máquina de esta sesión, posteriormente modificaremos la cabecera de este archivo y quedará listo para utilizarlo para instalar y correr Julia de forma nativa."
      ],
      "metadata": {
        "id": "QiWOmgUh_BL6"
      }
    },
    {
      "cell_type": "code",
      "source": [
        "!wget https://raw.githubusercontent.com/V3du4rd0/DGAPA_Colab/main/Minimal_empty_notebook.ipynb"
      ],
      "metadata": {
        "colab": {
          "base_uri": "https://localhost:8080/"
        },
        "id": "C2cA25pEhxCa",
        "outputId": "7004e276-dc7b-41a5-b8b6-262477c48000"
      },
      "execution_count": 1,
      "outputs": [
        {
          "output_type": "stream",
          "name": "stdout",
          "text": [
            "--2023-01-13 13:04:30--  https://raw.githubusercontent.com/V3du4rd0/DGAPA_Colab/main/Minimal_empty_notebook.ipynb\n",
            "Resolving raw.githubusercontent.com (raw.githubusercontent.com)... 185.199.108.133, 185.199.109.133, 185.199.110.133, ...\n",
            "Connecting to raw.githubusercontent.com (raw.githubusercontent.com)|185.199.108.133|:443... connected.\n",
            "HTTP request sent, awaiting response... 200 OK\n",
            "Length: 431 [text/plain]\n",
            "Saving to: ‘Minimal_empty_notebook.ipynb’\n",
            "\n",
            "Minimal_empty_noteb 100%[===================>]     431  --.-KB/s    in 0s      \n",
            "\n",
            "2023-01-13 13:04:30 (14.5 MB/s) - ‘Minimal_empty_notebook.ipynb’ saved [431/431]\n",
            "\n"
          ]
        }
      ]
    },
    {
      "cell_type": "code",
      "source": [
        "!cat Minimal_empty_notebook.ipynb"
      ],
      "metadata": {
        "colab": {
          "base_uri": "https://localhost:8080/"
        },
        "id": "WSdBOMflhzX4",
        "outputId": "bf1c4363-02d2-42fa-a1d8-bff4f9935753"
      },
      "execution_count": 2,
      "outputs": [
        {
          "output_type": "stream",
          "name": "stdout",
          "text": [
            "{\n",
            "  \"nbformat\": 4,\n",
            "  \"nbformat_minor\": 0,\n",
            "  \"metadata\": {\n",
            "    \"colab\": {\n",
            "      \"provenance\": []\n",
            "    },\n",
            "    \"kernelspec\": {\n",
            "      \"name\": \"python3\",\n",
            "      \"display_name\": \"Python 3\"\n",
            "    },\n",
            "    \"language_info\": {\n",
            "      \"name\": \"python\"\n",
            "    }\n",
            "  },\n",
            "  \"cells\": [\n",
            "    {\n",
            "      \"cell_type\": \"code\",\n",
            "      \"execution_count\": null,\n",
            "      \"metadata\": {\n",
            "        \"id\": \"AUUhCqXKgyu4\"\n",
            "      },\n",
            "      \"outputs\": [],\n",
            "      \"source\": []\n",
            "    }\n",
            "  ]\n",
            "}"
          ]
        }
      ]
    },
    {
      "cell_type": "markdown",
      "source": [],
      "metadata": {
        "id": "iCNnbHxgjEdn"
      }
    },
    {
      "cell_type": "markdown",
      "source": [
        "Utilizaremos Python para reemplazar parte de esta cabecera por una que nos permitirá instalar y correr Julia nativamente:"
      ],
      "metadata": {
        "id": "802_GH68iqkZ"
      }
    },
    {
      "cell_type": "code",
      "source": [
        "# Esta es parte de la cabecera original que queremos modificar\n",
        "original='''\"kernelspec\": {\n",
        "      \"name\": \"python3\",\n",
        "      \"display_name\": \"Python 3\"\n",
        "    },\n",
        "    \"language_info\": {\n",
        "      \"name\": \"python\"\n",
        "    }'''\n",
        "# Asi es como queremos que luzca la nueva cabecera del notebook\n",
        "nueva='''\"kernelspec\": {\n",
        "      \"display_name\": \"Julia 1.7\",\n",
        "      \"language\": \"julia\",\n",
        "      \"name\": \"julia-1.7\"\n",
        "    },\n",
        "    \"language_info\": {\n",
        "      \"file_extension\": \".jl\",\n",
        "      \"mimetype\": \"application/julia\",\n",
        "      \"name\": \"julia\",\n",
        "      \"version\": \"1.7.2\"\n",
        "    }'''\n",
        "# Abrimos el archivo, lo leemos, reemplazamos las cabeceras\n",
        "# y guardamos en un nuevo notebook\n",
        "file1=open('Minimal_empty_notebook.ipynb','r')\n",
        "data=file1.read()\n",
        "data2=data.replace(original,nueva)\n",
        "file1.close()\n",
        "\n",
        "\n",
        "file2=open('Minimal_empty_notebook_2.ipynb','w')\n",
        "file2.write(data2)\n",
        "file2.close()"
      ],
      "metadata": {
        "id": "NkYTImTxiGMc"
      },
      "execution_count": 3,
      "outputs": []
    },
    {
      "cell_type": "markdown",
      "source": [
        "Veamos como luce la cabecera del nuevo notebook, es muy similar a la anterior pero hemos reemplazado las referencias a Python por referencias a Julia:"
      ],
      "metadata": {
        "id": "wC41Bp52lCQN"
      }
    },
    {
      "cell_type": "code",
      "source": [
        "!cat Minimal_empty_notebook_2.ipynb"
      ],
      "metadata": {
        "colab": {
          "base_uri": "https://localhost:8080/"
        },
        "id": "raNcomnXj5is",
        "outputId": "507d9187-8f22-4f6e-9497-5a4ec25baa3e"
      },
      "execution_count": 4,
      "outputs": [
        {
          "output_type": "stream",
          "name": "stdout",
          "text": [
            "{\n",
            "  \"nbformat\": 4,\n",
            "  \"nbformat_minor\": 0,\n",
            "  \"metadata\": {\n",
            "    \"colab\": {\n",
            "      \"provenance\": []\n",
            "    },\n",
            "    \"kernelspec\": {\n",
            "      \"display_name\": \"Julia 1.7\",\n",
            "      \"language\": \"julia\",\n",
            "      \"name\": \"julia-1.7\"\n",
            "    },\n",
            "    \"language_info\": {\n",
            "      \"file_extension\": \".jl\",\n",
            "      \"mimetype\": \"application/julia\",\n",
            "      \"name\": \"julia\",\n",
            "      \"version\": \"1.7.2\"\n",
            "    }\n",
            "  },\n",
            "  \"cells\": [\n",
            "    {\n",
            "      \"cell_type\": \"code\",\n",
            "      \"execution_count\": null,\n",
            "      \"metadata\": {\n",
            "        \"id\": \"AUUhCqXKgyu4\"\n",
            "      },\n",
            "      \"outputs\": [],\n",
            "      \"source\": []\n",
            "    }\n",
            "  ]\n",
            "}"
          ]
        }
      ]
    },
    {
      "cell_type": "markdown",
      "source": [
        "Este segundo notebook **Minimal_empty_notebook_2.ipynb** que hemos creado a partir del **Minimal_empty_notebook.ipynb** está casi listo para correr comandos de Julia nativamente.\n",
        "\n",
        "Abriremos este notebook **Minimal_empty_notebook_2.ipynb** en Colab y agregaremos una celda de código con el siguiente contenido:"
      ],
      "metadata": {
        "id": "om9y1eO6ShHF"
      }
    },
    {
      "cell_type": "code",
      "source": [
        "%%shell\n",
        "if ! command -v julia 3>&1 > /dev/null\n",
        "then\n",
        "    wget -q 'https://julialang-s3.julialang.org/bin/linux/x64/1.7/julia-1.7.2-linux-x86_64.tar.gz' \\\n",
        "        -O /tmp/julia.tar.gz\n",
        "    tar -x -f /tmp/julia.tar.gz -C /usr/local --strip-components 1\n",
        "    rm /tmp/julia.tar.gz\n",
        "fi\n",
        "julia -e 'using Pkg; pkg\"add IJulia; precompile;\"'\n",
        "echo 'Done'"
      ],
      "metadata": {
        "id": "TLc6YH49twyF"
      },
      "execution_count": null,
      "outputs": []
    },
    {
      "cell_type": "markdown",
      "source": [
        "El contenido anterior se encargará de instalar Julia dentro de Colab y al ser ejecutado en un notebook cuya cabecera coincida con la que colocamos en **Minimal_empty_notebook_2.ipynb**, podremos ejecutar Julia.\n",
        "\n",
        "En el repositorio del curso hemos subido una copia del notebook **Minimal_empty_notebook_2.ipynb** creado aquí, incluyendo además celdas adicionales que nos permiten explorar Julia.\n",
        "\n",
        "<font color='red'>Esta sección continua en el notebook **Minimal_empty_notebook_2.ipynb**</font>"
      ],
      "metadata": {
        "id": "y6VCbJo5m8oD"
      }
    },
    {
      "cell_type": "code",
      "source": [],
      "metadata": {
        "id": "0RLLIVmLt5_u"
      },
      "execution_count": null,
      "outputs": []
    },
    {
      "cell_type": "code",
      "source": [],
      "metadata": {
        "id": "piMhDxI-XWrb"
      },
      "execution_count": null,
      "outputs": []
    },
    {
      "cell_type": "code",
      "source": [],
      "metadata": {
        "id": "i8evkv3AuYar"
      },
      "execution_count": null,
      "outputs": []
    },
    {
      "cell_type": "code",
      "source": [],
      "metadata": {
        "id": "wid4U5y4vFPO"
      },
      "execution_count": null,
      "outputs": []
    },
    {
      "cell_type": "code",
      "source": [],
      "metadata": {
        "id": "U2f6kgpwWuMV"
      },
      "execution_count": null,
      "outputs": []
    },
    {
      "cell_type": "code",
      "source": [],
      "metadata": {
        "id": "UGXsjihuWuJl"
      },
      "execution_count": null,
      "outputs": []
    },
    {
      "cell_type": "code",
      "source": [],
      "metadata": {
        "id": "7DWgdxQ3vSq4"
      },
      "execution_count": null,
      "outputs": []
    }
  ]
}