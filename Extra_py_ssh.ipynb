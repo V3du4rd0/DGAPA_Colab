{
  "nbformat": 4,
  "nbformat_minor": 0,
  "metadata": {
    "colab": {
      "provenance": []
    },
    "kernelspec": {
      "name": "python3",
      "display_name": "Python 3"
    },
    "language_info": {
      "name": "python"
    }
  },
  "cells": [
    {
      "cell_type": "markdown",
      "source": [
        "En clase intentamos conectar Colab por ssh y aunque es posible hacer llamadas a servidores y sincronizar directorios, vimos que loguearnos y correr un comando en el servidor puede no ser tan sencillo.\n",
        "\n",
        "El siguiente módulo de python nos permite inicial sesión en un servidor, correr comandos en el servidor a través de variables tipo *string*, y recuperar cada renglón de la salida del comando ejecutado:"
      ],
      "metadata": {
        "id": "5gy6GYrSMKDk"
      }
    },
    {
      "cell_type": "code",
      "source": [
        "!pip install paramiko"
      ],
      "metadata": {
        "colab": {
          "base_uri": "https://localhost:8080/"
        },
        "id": "jF9BIzvLrDqQ",
        "outputId": "5cbabf7e-d91a-49de-ddbe-87011a2c2c17"
      },
      "execution_count": 1,
      "outputs": [
        {
          "output_type": "stream",
          "name": "stdout",
          "text": [
            "Looking in indexes: https://pypi.org/simple, https://us-python.pkg.dev/colab-wheels/public/simple/\n",
            "Collecting paramiko\n",
            "  Downloading paramiko-2.12.0-py2.py3-none-any.whl (213 kB)\n",
            "\u001b[2K     \u001b[90m━━━━━━━━━━━━━━━━━━━━━━━━━━━━━━━━━━━━━━━\u001b[0m \u001b[32m213.1/213.1 KB\u001b[0m \u001b[31m2.3 MB/s\u001b[0m eta \u001b[36m0:00:00\u001b[0m\n",
            "\u001b[?25hCollecting cryptography>=2.5\n",
            "  Downloading cryptography-39.0.0-cp36-abi3-manylinux_2_24_x86_64.whl (4.1 MB)\n",
            "\u001b[2K     \u001b[90m━━━━━━━━━━━━━━━━━━━━━━━━━━━━━━━━━━━━━━━━\u001b[0m \u001b[32m4.1/4.1 MB\u001b[0m \u001b[31m20.4 MB/s\u001b[0m eta \u001b[36m0:00:00\u001b[0m\n",
            "\u001b[?25hRequirement already satisfied: six in /usr/local/lib/python3.8/dist-packages (from paramiko) (1.15.0)\n",
            "Collecting bcrypt>=3.1.3\n",
            "  Downloading bcrypt-4.0.1-cp36-abi3-manylinux_2_24_x86_64.whl (593 kB)\n",
            "\u001b[2K     \u001b[90m━━━━━━━━━━━━━━━━━━━━━━━━━━━━━━━━━━━━━━\u001b[0m \u001b[32m593.2/593.2 KB\u001b[0m \u001b[31m19.0 MB/s\u001b[0m eta \u001b[36m0:00:00\u001b[0m\n",
            "\u001b[?25hCollecting pynacl>=1.0.1\n",
            "  Downloading PyNaCl-1.5.0-cp36-abi3-manylinux_2_17_x86_64.manylinux2014_x86_64.manylinux_2_24_x86_64.whl (856 kB)\n",
            "\u001b[2K     \u001b[90m━━━━━━━━━━━━━━━━━━━━━━━━━━━━━━━━━━━━━━\u001b[0m \u001b[32m856.7/856.7 KB\u001b[0m \u001b[31m22.4 MB/s\u001b[0m eta \u001b[36m0:00:00\u001b[0m\n",
            "\u001b[?25hRequirement already satisfied: cffi>=1.12 in /usr/local/lib/python3.8/dist-packages (from cryptography>=2.5->paramiko) (1.15.1)\n",
            "Requirement already satisfied: pycparser in /usr/local/lib/python3.8/dist-packages (from cffi>=1.12->cryptography>=2.5->paramiko) (2.21)\n",
            "Installing collected packages: bcrypt, pynacl, cryptography, paramiko\n",
            "Successfully installed bcrypt-4.0.1 cryptography-39.0.0 paramiko-2.12.0 pynacl-1.5.0\n"
          ]
        }
      ]
    },
    {
      "cell_type": "markdown",
      "source": [
        "Veamos cómo utilizarlo (debemos tener acceso a un servidor y escribir las credenciales en la siguiente celda)."
      ],
      "metadata": {
        "id": "i_1jaMzdM9kz"
      }
    },
    {
      "cell_type": "code",
      "execution_count": 2,
      "metadata": {
        "id": "Jmf9BKNbq8sL"
      },
      "outputs": [],
      "source": [
        "import paramiko\n",
        "\n",
        "ip= \"132....\"\n",
        "usuario= \"usuario\"\n",
        "contrasena= \"contrasena\"\n",
        "\n",
        "ssh = paramiko.SSHClient()\n",
        "ssh.load_system_host_keys()\n",
        "ssh.set_missing_host_key_policy(paramiko.AutoAddPolicy())\n",
        "\n",
        "ssh.connect(ip, username=usuario, password=contrasena,look_for_keys=False )\n",
        "\n",
        "ssh_stdin, ssh_stdout, ssh_stderr = ssh.exec_command(\"ls -l\") # comando a ejecutar remotamente\n",
        "\n",
        "output = ssh_stdout.readlines() # cada renglon de la salida del comando es un elemento en una lista\n",
        "ssh.close()\n",
        "\n"
      ]
    },
    {
      "cell_type": "code",
      "source": [
        "output"
      ],
      "metadata": {
        "colab": {
          "base_uri": "https://localhost:8080/"
        },
        "id": "gztR8ji-rkXn",
        "outputId": "12e5c6c7-56c8-431e-da78-9ebb8c20c873"
      },
      "execution_count": 3,
      "outputs": [
        {
          "output_type": "execute_result",
          "data": {
            "text/plain": [
              "['total 4\\n',\n",
              " 'lrwxrwxrwx 1 eduardoivanvr becarios   26 mar 16  2017 Examples -> /usr/share/example-content\\n',\n",
              " 'drwx------ 3 eduardoivanvr becarios 4096 nov 12 22:21 mail\\n']"
            ]
          },
          "metadata": {},
          "execution_count": 3
        }
      ]
    },
    {
      "cell_type": "code",
      "source": [],
      "metadata": {
        "id": "c1T3wW4arlx0"
      },
      "execution_count": null,
      "outputs": []
    }
  ]
}