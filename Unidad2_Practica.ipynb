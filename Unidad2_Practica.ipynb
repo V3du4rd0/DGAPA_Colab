{
  "nbformat": 4,
  "nbformat_minor": 0,
  "metadata": {
    "colab": {
      "provenance": []
    },
    "kernelspec": {
      "name": "python3",
      "display_name": "Python 3"
    },
    "language_info": {
      "name": "python"
    }
  },
  "cells": [
    {
      "cell_type": "markdown",
      "source": [
        "ESCRIBE TU NOMBRE EN ESTE NOTEBOOK:"
      ],
      "metadata": {
        "id": "bSK2k8gFaeS6"
      }
    },
    {
      "cell_type": "markdown",
      "source": [
        "## Listas\n",
        "\n",
        "\n",
        "**Ejercicio 1**. En el notebook *Intro_a_Python* vimos que el signo **+** puede utilizarse para sumar números y para concatenar cadenas de texto"
      ],
      "metadata": {
        "id": "0PhYYRIuWhqM"
      }
    },
    {
      "cell_type": "code",
      "execution_count": null,
      "metadata": {
        "id": "1ZNfSdAvVscD"
      },
      "outputs": [],
      "source": [
        "print(1+1)"
      ]
    },
    {
      "cell_type": "code",
      "source": [
        "print('Hola '+'mundo')"
      ],
      "metadata": {
        "id": "8_EFP7CfYsSI"
      },
      "execution_count": null,
      "outputs": []
    },
    {
      "cell_type": "markdown",
      "source": [
        "\n",
        "Comienza por crear dos listas y determina cómo opera el signo **+** cuando es aplicado a dos listas. Puedes apoyarte en la siguiente celda de código, escribe tu respuesta en una celda de texto"
      ],
      "metadata": {
        "id": "N8FlNiS1Y3tH"
      }
    },
    {
      "cell_type": "code",
      "source": [
        "Lista1=  # crea una lista\n",
        "Lista2= # crea una segunda lista\n",
        "\n",
        "print(Lista1+Lista2)"
      ],
      "metadata": {
        "id": "1ep6nAesZgNC"
      },
      "execution_count": null,
      "outputs": []
    },
    {
      "cell_type": "markdown",
      "source": [
        "RESPUESTA:"
      ],
      "metadata": {
        "id": "qBfPeXHNZqTX"
      }
    },
    {
      "cell_type": "markdown",
      "source": [
        "**Ejercicio 2**. Cuando la instrucción `sum( )` recibe  como argumento una lista de números, ésta devuelve la suma de todos los números en la lista.\n",
        "\n",
        "Veamos un ejemplo:"
      ],
      "metadata": {
        "id": "-pd5pmsxeMn6"
      }
    },
    {
      "cell_type": "code",
      "source": [
        "sum([1,2,3])\n"
      ],
      "metadata": {
        "colab": {
          "base_uri": "https://localhost:8080/"
        },
        "id": "vuuyhAHveK2h",
        "outputId": "bcd73b3c-9de2-4c85-e1ea-a0297ea15c3f"
      },
      "execution_count": 7,
      "outputs": [
        {
          "output_type": "execute_result",
          "data": {
            "text/plain": [
              "6"
            ]
          },
          "metadata": {},
          "execution_count": 7
        }
      ]
    },
    {
      "cell_type": "markdown",
      "source": [
        "\n",
        "\n",
        "Utiliza esta instrucción <font color='red'>`sum( )`</font>, así como la instrucción <font color='red'>`len( )` </font> para calcular e imprimir el promedio de los elementos en la siguiente lista:"
      ],
      "metadata": {
        "id": "87kZFTUjZwjM"
      }
    },
    {
      "cell_type": "code",
      "source": [
        "L=[1,6,3,8,100,12.65,3.33]\n",
        "\n",
        "#Agrega en esta celda las instrucciones para calcular el promedio de los elementos en L"
      ],
      "metadata": {
        "id": "eyx-saqHZtze"
      },
      "execution_count": 3,
      "outputs": []
    },
    {
      "cell_type": "markdown",
      "source": [
        "## Estructuras de Control y creación de archivos\n",
        "\n",
        "**Ejercicio 3**. Utiliza un ciclo `for` para generar automáticamente 30 archivos con la instrucción `open( str(i)  ,'w')`, no importa si estos archivos tienen o no contenido. Puedes apoyarte en la siguiente celda:\n"
      ],
      "metadata": {
        "id": "T8VqsHPwexTI"
      }
    },
    {
      "cell_type": "code",
      "source": [
        "for i in # Completa esta instruccion\n",
        "  archivo=open(str(i)+'.txt','w')\n",
        "  #\n",
        "  #Agrega la instruccion para cerrar archivo"
      ],
      "metadata": {
        "id": "tzDtNJ7tbgvt"
      },
      "execution_count": 8,
      "outputs": []
    },
    {
      "cell_type": "code",
      "source": [
        "!ls"
      ],
      "metadata": {
        "id": "r4mhdtoFhlMr"
      },
      "execution_count": null,
      "outputs": []
    },
    {
      "cell_type": "code",
      "source": [],
      "metadata": {
        "id": "h69kylTph024"
      },
      "execution_count": null,
      "outputs": []
    }
  ]
}